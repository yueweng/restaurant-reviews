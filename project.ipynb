{
 "cells": [
  {
   "cell_type": "code",
   "execution_count": 1,
   "metadata": {},
   "outputs": [
    {
     "data": {
      "text/plain": [
       "<src.review.Review at 0x11175ca10>"
      ]
     },
     "execution_count": 1,
     "metadata": {},
     "output_type": "execute_result"
    }
   ],
   "source": [
    "from src.review import Review\n",
    "import json\n",
    "\n",
    "reviews = []\n",
    "with open('yelp_dataset/review.json', 'r') as f:\n",
    "    for line in f:\n",
    "        review = json.loads(line)\n",
    "        reviews.append(Review(review['review_id'], \n",
    "                              review['user_id'], \n",
    "                              review['business_id'],\n",
    "                              review['stars'], \n",
    "                              review['useful'], \n",
    "                              review['funny'], \n",
    "                              review['cool'], \n",
    "                              review['text'], \n",
    "                              review['date']))\n",
    "\n",
    "reviews[0]"
   ]
  },
  {
   "cell_type": "code",
   "execution_count": null,
   "metadata": {},
   "outputs": [],
   "source": [
    "import pandas as pd\n",
    "\n",
    "review_df = pd.DataFrame(columns=['review_id',\n",
    "                                  'user_id',\n",
    "                                  'business_id', \n",
    "                                  'stars', \n",
    "                                  'useful', \n",
    "                                  'funny', \n",
    "                                  'cool', \n",
    "                                  'text', \n",
    "                                  'date'])\n",
    "\n",
    "for idx, review in enumerate(reviews):\n",
    "    review_df.loc[idx] = [review.review_id, \n",
    "                          review.user_id, \n",
    "                          review.business_id, \n",
    "                          review.stars, \n",
    "                          review.useful, \n",
    "                          review.funny, \n",
    "                          review.cool, \n",
    "                          review.text, \n",
    "                          review.date]\n",
    "\n",
    "# review_df = pd.DataFrame({\"review_id\": review_data[0], \"user_id\": review_data[1]})\n",
    "review_df"
   ]
  },
  {
   "cell_type": "code",
   "execution_count": null,
   "metadata": {},
   "outputs": [],
   "source": [
    "with open('yelp_dataset/business.json', 'r') as f:\n",
    "    b = f.readlines()\n",
    "\n",
    "b"
   ]
  },
  {
   "cell_type": "code",
   "execution_count": null,
   "metadata": {},
   "outputs": [],
   "source": [
    "len(b)"
   ]
  },
  {
   "cell_type": "code",
   "execution_count": null,
   "metadata": {},
   "outputs": [],
   "source": []
  }
 ],
 "metadata": {
  "kernelspec": {
   "display_name": "Python 3",
   "language": "python",
   "name": "python3"
  },
  "language_info": {
   "codemirror_mode": {
    "name": "ipython",
    "version": 3
   },
   "file_extension": ".py",
   "mimetype": "text/x-python",
   "name": "python",
   "nbconvert_exporter": "python",
   "pygments_lexer": "ipython3",
   "version": "3.7.4"
  }
 },
 "nbformat": 4,
 "nbformat_minor": 2
}
